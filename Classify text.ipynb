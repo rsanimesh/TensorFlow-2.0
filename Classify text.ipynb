{
 "cells": [
  {
   "cell_type": "markdown",
   "metadata": {},
   "source": [
    "# Text classification of movie reviews with Keras and TensorFlow Hub"
   ]
  },
  {
   "cell_type": "code",
   "execution_count": 3,
   "metadata": {},
   "outputs": [
    {
     "name": "stdout",
     "output_type": "stream",
     "text": [
      "Version:  2.0.0-beta1\n",
      "Eager mode:  True\n",
      "Hub version:  0.4.0\n",
      "GPU is NOT AVAILABLE\n"
     ]
    }
   ],
   "source": [
    "from __future__ import absolute_import, division, print_function, unicode_literals\n",
    "\n",
    "import numpy as np\n",
    "\n",
    "import tensorflow as tf\n",
    "\n",
    "import tensorflow_hub as hub\n",
    "import tensorflow_datasets as tfds\n",
    "\n",
    "print(\"Version: \", tf.__version__)\n",
    "print(\"Eager mode: \", tf.executing_eagerly())\n",
    "print(\"Hub version: \", hub.__version__)\n",
    "print(\"GPU is\", \"available\" if tf.test.is_gpu_available() else \"NOT AVAILABLE\")"
   ]
  },
  {
   "cell_type": "code",
   "execution_count": 4,
   "metadata": {},
   "outputs": [],
   "source": [
    "# Split the training set into 60% and 40%, so we'll end up with 15,000 examples\n",
    "# for training, 10,000 examples for validation and 25,000 examples for testing.\n",
    "train_validation_split = tfds.Split.TRAIN.subsplit([6, 4])\n",
    "\n",
    "(train_data, validation_data), test_data = tfds.load(name=\"imdb_reviews\", split=(train_validation_split, tfds.Split.TEST), as_supervised=True)"
   ]
  },
  {
   "cell_type": "code",
   "execution_count": 5,
   "metadata": {},
   "outputs": [
    {
     "data": {
      "text/plain": [
       "<tf.Tensor: id=220, shape=(10,), dtype=string, numpy=\n",
       "array([b\"As a lifelong fan of Dickens, I have invariably been disappointed by adaptations of his novels.<br /><br />Although his works presented an extremely accurate re-telling of human life at every level in Victorian Britain, throughout them all was a pervasive thread of humour that could be both playful or sarcastic as the narrative dictated. In a way, he was a literary caricaturist and cartoonist. He could be serious and hilarious in the same sentence. He pricked pride, lampooned arrogance, celebrated modesty, and empathised with loneliness and poverty. It may be a clich\\xc3\\xa9, but he was a people's writer.<br /><br />And it is the comedy that is so often missing from his interpretations. At the time of writing, Oliver Twist is being dramatised in serial form on BBC television. All of the misery and cruelty is their, but non of the humour, irony, and savage lampoonery. The result is just a dark, dismal experience: the story penned by a journalist rather than a novelist. It's not really Dickens at all.<br /><br />'Oliver!', on the other hand, is much closer to the mark. The mockery of officialdom is perfectly interpreted, from the blustering beadle to the drunken magistrate. The classic stand-off between the beadle and Mr Brownlow, in which the law is described as 'a ass, a idiot' couldn't have been better done. Harry Secombe is an ideal choice.<br /><br />But the blinding cruelty is also there, the callous indifference of the state, the cold, hunger, poverty and loneliness are all presented just as surely as The Master would have wished.<br /><br />And then there is crime. Ron Moody is a treasure as the sleazy Jewish fence, whilst Oliver Reid has Bill Sykes to perfection.<br /><br />Perhaps not surprisingly, Lionel Bart - himself a Jew from London's east-end - takes a liberty with Fagin by re-interpreting him as a much more benign fellow than was Dicken's original. In the novel, he was utterly ruthless, sending some of his own boys to the gallows in order to protect himself (though he was also caught and hanged). Whereas in the movie, he is presented as something of a wayward father-figure, a sort of charitable thief rather than a corrupter of children, the latter being a long-standing anti-semitic sentiment. Otherwise, very few liberties are taken with Dickens's original. All of the most memorable elements are included. Just enough menace and violence is retained to ensure narrative fidelity whilst at the same time allowing for children' sensibilities. Nancy is still beaten to death, Bullseye narrowly escapes drowning, and Bill Sykes gets a faithfully graphic come-uppance.<br /><br />Every song is excellent, though they do incline towards schmaltz. Mark Lester mimes his wonderfully. Both his and my favourite scene is the one in which the world comes alive to 'who will buy'. It's schmaltzy, but it's Dickens through and through.<br /><br />I could go on. I could commend the wonderful set-pieces, the contrast of the rich and poor. There is top-quality acting from more British regulars than you could shake a stick at.<br /><br />I ought to give it 10 points, but I'm feeling more like Scrooge today. Soak it up with your Christmas dinner. No original has been better realised.\",\n",
       "       b\"Oh yeah! Jenna Jameson did it again! Yeah Baby! This movie rocks. It was one of the 1st movies i saw of her. And i have to say i feel in love with her, she was great in this move.<br /><br />Her performance was outstanding and what i liked the most was the scenery and the wardrobe it was amazing you can tell that they put a lot into the movie the girls cloth were amazing.<br /><br />I hope this comment helps and u can buy the movie, the storyline is awesome is very unique and i'm sure u are going to like it. Jenna amazed us once more and no wonder the movie won so many awards. Her make-up and wardrobe is very very sexy and the girls on girls scene is amazing. specially the one where she looks like an angel. It's a must see and i hope u share my interests\",\n",
       "       b\"I saw this film on True Movies (which automatically made me sceptical) but actually - it was good. Why? Not because of the amazing plot twists or breathtaking dialogue (of which there is little) but because actually, despite what people say I thought the film was accurate in it's depiction of teenagers dealing with pregnancy.<br /><br />It's NOT Dawson's Creek, they're not graceful, cool witty characters who breeze through sexuality with effortless knowledge. They're kids and they act like kids would. <br /><br />They're blunt, awkward and annoyingly confused about everything. Yes, this could be by accident and they could just be bad actors but I don't think so. Dermot Mulroney gives (when not trying to be cool) a very believable performance and I loved him for it. Patricia Arquette IS whiny and annoying, but she was pregnant and a teenagers? The combination of the two isn't exactly lavender on your pillow. The plot was VERY predictable and but so what? I believed them, his stress and inability to cope - her brave, yet slightly misguided attempts to bring them closer together. I think the characters, acted by anyone else, WOULD indeed have been annoying and unbelievable but they weren't. It reflects the surreality of the situation they're in, that he's sitting in class and she walks on campus with the baby. I felt angry at her for that, I felt angry at him for being such a child and for blaming her. I felt it all.<br /><br />In the end, I loved it and would recommend it.<br /><br />Watch out for the scene where Dermot Mulroney runs from the disastrous counselling session - career performance.\",\n",
       "       b'This was a wonderfully clever and entertaining movie that I shall never tire of watching many, many times. The casting was magnificent in matching up the young with the older characters. There are those of us out here who really do appreciate good actors and an intelligent story format. As for Judi Dench, she is beautiful and a gift to any kind of production in which she stars. I always make a point to see Judi Dench in all her performances. She is a superb actress and a pleasure to watch as each transformation of her character comes to life. I can only be grateful when I see such an outstanding picture for most of the motion pictures made more recently lack good characters, good scripts and good acting. The movie public needs heroes, not deviant manikins, who lack ingenuity and talent. How wonderful to see old favorites like Leslie Caron, Olympia Dukakis and Cleo Laine. I would like to see this movie win the awards it deserves. Thank you again for a tremendous night of entertainment. I congratulate the writer, director, producer, and all those who did such a fine job.',\n",
       "       b'I have no idea what the other reviewer is talking about- this was a wonderful movie, and created a sense of the era that feels like time travel. The characters are truly young, Mary is a strong match for Byron, Claire is juvenile and a tad annoying, Polidori is a convincing beaten-down sycophant... all are beautiful, curious, and decadent... not the frightening wrecks they are in Gothic.<br /><br />Gothic works as an independent piece of shock film, and I loved it for different reasons, but this works like a Merchant and Ivory film, and was from my readings the best capture of what the summer must have felt like. Romantic, yes, but completely rekindles my interest in the lives of Shelley and Byron every time I think about the film. One of my all-time favorites.',\n",
       "       b\"This was soul-provoking! I am an Iranian, and living in th 21st century, I didn't know that such big tribes have been living in such conditions at the time of my grandfather!<br /><br />You see that today, or even in 1925, on one side of the world a lady or a baby could have everything served for him or her clean and on-demand, but here 80 years ago, people ventured their life to go to somewhere with more grass. It's really interesting that these Persians bear those difficulties to find pasture for their sheep, but they lose many the sheep on their way.<br /><br />I praise the Americans who accompanied this tribe, they were as tough as Bakhtiari people.\",\n",
       "       b'Just because someone is under the age of 10 does not mean they are stupid. If your child likes this film you\\'d better have him/her tested. I am continually amazed at how so many people can be involved in something that turns out so bad. This \"film\" is a showcase for digital wizardry AND NOTHING ELSE. The writing is horrid. I can\\'t remember when I\\'ve heard such bad dialogue. The songs are beyond wretched. The acting is sub-par but then the actors were not given much. Who decided to employ Joey Fatone? He cannot sing and he is ugly as sin.<br /><br />The worst thing is the obviousness of it all. It is as if the writers went out of their way to make it all as stupid as possible. Great children\\'s movies are wicked, smart and full of wit - films like Shrek and Toy Story in recent years, Willie Wonka and The Witches to mention two of the past. But in the continual dumbing-down of American more are flocking to dreck like Finding Nemo (yes, that\\'s right), the recent Charlie & The Chocolate Factory and eye-crossing trash like Red Riding Hood.',\n",
       "       b\"I absolutely LOVED this movie when I was a kid. I cried every time I watched it. It wasn't weird to me. I totally identified with the characters. I would love to see it again (and hope I wont be disappointed!). Pufnstuf rocks!!!! I was really drawn in to the fantasy world. And to me the movie was loooong. I wonder if I ever saw the series and have confused them? The acting I thought was strong. I loved Jack Wilde. He was so dreamy to an 10 year old (when I first saw the movie, not in 1970. I can still remember the characters vividly. The flute was totally believable and I can still 'feel' the evil woods. Witchy poo was scary - I wouldn't want to cross her path.\",\n",
       "       b'A very close and sharp discription of the bubbling and dynamic emotional world of specialy one 18year old guy, that makes his first experiences in his gay love to an other boy, during an vacation with a part of his family.<br /><br />I liked this film because of his extremly clear and surrogated storytelling , with all this \"Sound-close-ups\" and quiet moments wich had been full of intensive moods.<br /><br />',\n",
       "       b\"This is the most depressing film I have ever seen. I first saw it as a child and even thinking about it now really upsets me. I know it was set in a time when life was hard and I know these people were poor and the crops were vital. Yes, I get all that. What I find hard to take is I can't remember one single light moment in the entire film. Maybe it was true to life, I don't know. I'm quite sure the acting was top notch and the direction and quality of filming etc etc was wonderful and I know that every film can't have a happy ending but as a family film it is dire in my opinion.<br /><br />I wouldn't recommend it to anyone who wants to be entertained by a film. I can't stress enough how this film affected me as a child. I was talking about it recently and all the sad memories came flooding back. I think it would have all but the heartless reaching for the Prozac.\"],\n",
       "      dtype=object)>"
      ]
     },
     "execution_count": 5,
     "metadata": {},
     "output_type": "execute_result"
    }
   ],
   "source": [
    "# train_examples_batch, train_labels_batch = train_data.batch(10).make_one_shot_iterator().get_next()\n",
    "train_examples_batch, train_labels_batch = next(iter(train_data.batch(10)))\n",
    "train_examples_batch"
   ]
  },
  {
   "cell_type": "code",
   "execution_count": 6,
   "metadata": {},
   "outputs": [
    {
     "data": {
      "text/plain": [
       "<tf.Tensor: id=221, shape=(10,), dtype=int64, numpy=array([1, 1, 1, 1, 1, 1, 0, 1, 1, 0], dtype=int64)>"
      ]
     },
     "execution_count": 6,
     "metadata": {},
     "output_type": "execute_result"
    }
   ],
   "source": [
    "train_labels_batch"
   ]
  },
  {
   "cell_type": "code",
   "execution_count": 7,
   "metadata": {},
   "outputs": [
    {
     "data": {
      "text/plain": [
       "<tf.Tensor: id=402, shape=(3, 20), dtype=float32, numpy=\n",
       "array([[ 3.9819887 , -4.4838037 ,  5.177359  , -2.3643482 , -3.2938678 ,\n",
       "        -3.5364532 , -2.4786978 ,  2.5525482 ,  6.688532  , -2.3076782 ,\n",
       "        -1.9807833 ,  1.1315885 , -3.0339816 , -0.7604128 , -5.743445  ,\n",
       "         3.4242578 ,  4.790099  , -4.03061   , -5.992149  , -1.7297493 ],\n",
       "       [ 3.4232912 , -4.230874  ,  4.1488533 , -0.29553518, -6.802391  ,\n",
       "        -2.5163853 , -4.4002395 ,  1.905792  ,  4.7512794 , -0.40538004,\n",
       "        -4.3401685 ,  1.0361497 ,  0.9744097 ,  0.71507156, -6.2657013 ,\n",
       "         0.16533905,  4.560262  , -1.3106939 , -3.1121316 , -2.1338716 ],\n",
       "       [ 3.8508697 , -5.003031  ,  4.8700504 , -0.04324996, -5.893603  ,\n",
       "        -5.2983093 , -4.004676  ,  4.1236343 ,  6.267754  ,  0.11632943,\n",
       "        -3.5934832 ,  0.8023905 ,  0.56146765,  0.9192484 , -7.3066816 ,\n",
       "         2.8202746 ,  6.2000837 , -3.5709393 , -4.564525  , -2.305622  ]],\n",
       "      dtype=float32)>"
      ]
     },
     "execution_count": 7,
     "metadata": {},
     "output_type": "execute_result"
    }
   ],
   "source": [
    "embedding = \"https://tfhub.dev/google/tf2-preview/gnews-swivel-20dim/1\"\n",
    "hub_layer = hub.KerasLayer(embedding, input_shape=[], \n",
    "                           dtype=tf.string, trainable=True)\n",
    "hub_layer(train_examples_batch[:3])"
   ]
  },
  {
   "cell_type": "code",
   "execution_count": 8,
   "metadata": {},
   "outputs": [
    {
     "name": "stdout",
     "output_type": "stream",
     "text": [
      "Model: \"sequential\"\n",
      "_________________________________________________________________\n",
      "Layer (type)                 Output Shape              Param #   \n",
      "=================================================================\n",
      "keras_layer (KerasLayer)     (None, 20)                400020    \n",
      "_________________________________________________________________\n",
      "dense (Dense)                (None, 16)                336       \n",
      "_________________________________________________________________\n",
      "dense_1 (Dense)              (None, 1)                 17        \n",
      "=================================================================\n",
      "Total params: 400,373\n",
      "Trainable params: 400,373\n",
      "Non-trainable params: 0\n",
      "_________________________________________________________________\n"
     ]
    }
   ],
   "source": [
    "model = tf.keras.Sequential()\n",
    "model.add(hub_layer)\n",
    "model.add(tf.keras.layers.Dense(16, activation='relu'))\n",
    "model.add(tf.keras.layers.Dense(1, activation='sigmoid'))\n",
    "\n",
    "model.summary()"
   ]
  },
  {
   "cell_type": "code",
   "execution_count": 9,
   "metadata": {},
   "outputs": [],
   "source": [
    "model.compile(optimizer='adam',\n",
    "              loss='binary_crossentropy',\n",
    "              metrics=['accuracy'])"
   ]
  },
  {
   "cell_type": "code",
   "execution_count": 10,
   "metadata": {},
   "outputs": [
    {
     "name": "stdout",
     "output_type": "stream",
     "text": [
      "Epoch 1/20\n"
     ]
    },
    {
     "name": "stderr",
     "output_type": "stream",
     "text": [
      "WARNING: Logging before flag parsing goes to stderr.\n",
      "W0817 02:08:31.754357  4736 deprecation.py:323] From D:\\Software\\Anaconda3\\envs\\py3-TF2.0\\lib\\site-packages\\tensorflow\\python\\ops\\math_grad.py:1250: add_dispatch_support.<locals>.wrapper (from tensorflow.python.ops.array_ops) is deprecated and will be removed in a future version.\n",
      "Instructions for updating:\n",
      "Use tf.where in 2.0, which has the same broadcast rule as np.where\n"
     ]
    },
    {
     "name": "stdout",
     "output_type": "stream",
     "text": [
      "30/30 [==============================].5133 - accuracy: 0.46 - 3s 1s/step - loss: 3.4048 - accuracy: 0.46 - 3s 1s/step - loss: 3.2036 - accuracy: 0.48 - 3s 855ms/step - loss: 3.0575 - accuracy: 0.495 - 4s 724ms/step - loss: 2.9605 - accuracy: 0.496 - 4s 642ms/step - loss: 2.8480 - accuracy: 0.501 - 4s 575ms/step - loss: 2.7872 - accuracy: 0.499 - 4s 528ms/step - loss: 2.7157 - accuracy: 0.494 - 4s 493ms/step - loss: 2.6460 - accuracy: 0.490 - 5s 459ms/step - loss: 2.5704 - accuracy: 0.490 - 5s 431ms/step - loss: 2.4877 - accuracy: 0.493 - 5s 407ms/step - loss: 2.4278 - accuracy: 0.490 - 5s 386ms/step - loss: 2.3527 - accuracy: 0.491 - 5s 370ms/step - loss: 2.2793 - accuracy: 0.491 - 5s 356ms/step - loss: 2.2127 - accuracy: 0.490 - 5s 343ms/step - loss: 2.1447 - accuracy: 0.491 - 6s 332ms/step - loss: 2.0769 - accuracy: 0.493 - 6s 322ms/step - loss: 2.0151 - accuracy: 0.493 - 6s 313ms/step - loss: 1.9588 - accuracy: 0.491 - 6s 304ms/step - loss: 1.9041 - accuracy: 0.492 - 6s 296ms/step - loss: 1.8521 - accuracy: 0.493 - 6s 290ms/step - loss: 1.8046 - accuracy: 0.492 - 7s 284ms/step - loss: 1.7610 - accuracy: 0.492 - 7s 279ms/step - loss: 1.7184 - accuracy: 0.494 - 7s 274ms/step - loss: 1.6818 - accuracy: 0.495 - 7s 270ms/step - loss: 1.6484 - accuracy: 0.495 - 7s 264ms/step - loss: 1.6182 - accuracy: 0.496 - 7s 260ms/step - loss: 1.5912 - accuracy: 0.496 - 7s 257ms/step - loss: 1.5653 - accuracy: 0.495 - 8s 257ms/step - loss: 1.5415 - accuracy: 0.496 - 12s 386ms/step - loss: 1.5415 - accuracy: 0.4960 - val_loss: 0.0000e+00 - val_accuracy: 0.0000e+00\n",
      "Epoch 2/20\n",
      "30/30 [==============================] - ETA: 49s - loss: 0.7915 - accuracy: 0.556 - ETA: 26s - loss: 0.8159 - accuracy: 0.544 - ETA: 19s - loss: 0.8446 - accuracy: 0.516 - ETA: 15s - loss: 0.8411 - accuracy: 0.513 - ETA: 13s - loss: 0.8332 - accuracy: 0.519 - ETA: 11s - loss: 0.8302 - accuracy: 0.519 - ETA: 9s - loss: 0.8294 - accuracy: 0.515 - ETA: 8s - loss: 0.8185 - accuracy: 0.52 - ETA: 7s - loss: 0.8064 - accuracy: 0.52 - ETA: 7s - loss: 0.8000 - accuracy: 0.53 - ETA: 6s - loss: 0.7919 - accuracy: 0.53 - ETA: 5s - loss: 0.7876 - accuracy: 0.53 - ETA: 5s - loss: 0.7821 - accuracy: 0.53 - ETA: 4s - loss: 0.7757 - accuracy: 0.54 - ETA: 4s - loss: 0.7694 - accuracy: 0.54 - ETA: 3s - loss: 0.7646 - accuracy: 0.54 - ETA: 3s - loss: 0.7597 - accuracy: 0.55 - ETA: 3s - loss: 0.7548 - accuracy: 0.55 - ETA: 2s - loss: 0.7515 - accuracy: 0.55 - ETA: 2s - loss: 0.7484 - accuracy: 0.55 - ETA: 2s - loss: 0.7454 - accuracy: 0.55 - ETA: 1s - loss: 0.7427 - accuracy: 0.55 - ETA: 1s - loss: 0.7411 - accuracy: 0.55 - ETA: 1s - loss: 0.7375 - accuracy: 0.56 - ETA: 1s - loss: 0.7356 - accuracy: 0.56 - ETA: 0s - loss: 0.7341 - accuracy: 0.56 - ETA: 0s - loss: 0.7327 - accuracy: 0.56 - ETA: 0s - loss: 0.7308 - accuracy: 0.56 - ETA: 0s - loss: 0.7274 - accuracy: 0.56 - 10s 330ms/step - loss: 0.7264 - accuracy: 0.5695 - val_loss: 0.6641 - val_accuracy: 0.6146\n",
      "Epoch 3/20\n",
      "30/30 [==============================] - ETA: 48s - loss: 0.6481 - accuracy: 0.609 - ETA: 26s - loss: 0.6631 - accuracy: 0.588 - ETA: 19s - loss: 0.6673 - accuracy: 0.597 - ETA: 15s - loss: 0.6646 - accuracy: 0.602 - ETA: 12s - loss: 0.6616 - accuracy: 0.609 - ETA: 10s - loss: 0.6568 - accuracy: 0.616 - ETA: 9s - loss: 0.6611 - accuracy: 0.612 - ETA: 8s - loss: 0.6587 - accuracy: 0.61 - ETA: 7s - loss: 0.6554 - accuracy: 0.62 - ETA: 7s - loss: 0.6524 - accuracy: 0.62 - ETA: 6s - loss: 0.6500 - accuracy: 0.63 - ETA: 5s - loss: 0.6517 - accuracy: 0.63 - ETA: 5s - loss: 0.6505 - accuracy: 0.63 - ETA: 4s - loss: 0.6482 - accuracy: 0.63 - ETA: 4s - loss: 0.6460 - accuracy: 0.63 - ETA: 3s - loss: 0.6445 - accuracy: 0.63 - ETA: 3s - loss: 0.6428 - accuracy: 0.63 - ETA: 3s - loss: 0.6408 - accuracy: 0.63 - ETA: 2s - loss: 0.6392 - accuracy: 0.64 - ETA: 2s - loss: 0.6384 - accuracy: 0.64 - ETA: 2s - loss: 0.6377 - accuracy: 0.64 - ETA: 1s - loss: 0.6365 - accuracy: 0.64 - ETA: 1s - loss: 0.6367 - accuracy: 0.64 - ETA: 1s - loss: 0.6348 - accuracy: 0.64 - ETA: 1s - loss: 0.6350 - accuracy: 0.64 - ETA: 0s - loss: 0.6345 - accuracy: 0.64 - ETA: 0s - loss: 0.6341 - accuracy: 0.64 - ETA: 0s - loss: 0.6335 - accuracy: 0.64 - ETA: 0s - loss: 0.6317 - accuracy: 0.65 - 10s 326ms/step - loss: 0.6320 - accuracy: 0.6507 - val_loss: 0.6093 - val_accuracy: 0.6728\n",
      "Epoch 4/20\n",
      "30/30 [==============================] - ETA: 42s - loss: 0.5854 - accuracy: 0.703 - ETA: 23s - loss: 0.5990 - accuracy: 0.680 - ETA: 17s - loss: 0.6048 - accuracy: 0.675 - ETA: 14s - loss: 0.6056 - accuracy: 0.672 - ETA: 11s - loss: 0.6046 - accuracy: 0.675 - ETA: 10s - loss: 0.6014 - accuracy: 0.678 - ETA: 9s - loss: 0.6047 - accuracy: 0.674 - ETA: 8s - loss: 0.6037 - accuracy: 0.68 - ETA: 7s - loss: 0.6025 - accuracy: 0.68 - ETA: 6s - loss: 0.5992 - accuracy: 0.68 - ETA: 6s - loss: 0.5979 - accuracy: 0.68 - ETA: 5s - loss: 0.6000 - accuracy: 0.68 - ETA: 4s - loss: 0.5994 - accuracy: 0.68 - ETA: 4s - loss: 0.5974 - accuracy: 0.68 - ETA: 4s - loss: 0.5959 - accuracy: 0.68 - ETA: 3s - loss: 0.5946 - accuracy: 0.68 - ETA: 3s - loss: 0.5932 - accuracy: 0.68 - ETA: 3s - loss: 0.5915 - accuracy: 0.69 - ETA: 2s - loss: 0.5902 - accuracy: 0.69 - ETA: 2s - loss: 0.5896 - accuracy: 0.69 - ETA: 2s - loss: 0.5894 - accuracy: 0.69 - ETA: 1s - loss: 0.5885 - accuracy: 0.69 - ETA: 1s - loss: 0.5890 - accuracy: 0.69 - ETA: 1s - loss: 0.5877 - accuracy: 0.69 - ETA: 1s - loss: 0.5882 - accuracy: 0.69 - ETA: 0s - loss: 0.5880 - accuracy: 0.69 - ETA: 0s - loss: 0.5878 - accuracy: 0.69 - ETA: 0s - loss: 0.5873 - accuracy: 0.69 - ETA: 0s - loss: 0.5858 - accuracy: 0.69 - 10s 327ms/step - loss: 0.5865 - accuracy: 0.6974 - val_loss: 0.5744 - val_accuracy: 0.7079\n",
      "Epoch 5/20\n",
      "30/30 [==============================] - ETA: 43s - loss: 0.5507 - accuracy: 0.722 - ETA: 24s - loss: 0.5610 - accuracy: 0.709 - ETA: 17s - loss: 0.5662 - accuracy: 0.705 - ETA: 14s - loss: 0.5674 - accuracy: 0.706 - ETA: 11s - loss: 0.5669 - accuracy: 0.708 - ETA: 10s - loss: 0.5645 - accuracy: 0.710 - ETA: 9s - loss: 0.5667 - accuracy: 0.707 - ETA: 8s - loss: 0.5660 - accuracy: 0.71 - ETA: 7s - loss: 0.5656 - accuracy: 0.71 - ETA: 6s - loss: 0.5621 - accuracy: 0.71 - ETA: 5s - loss: 0.5613 - accuracy: 0.71 - ETA: 5s - loss: 0.5631 - accuracy: 0.71 - ETA: 4s - loss: 0.5628 - accuracy: 0.71 - ETA: 4s - loss: 0.5607 - accuracy: 0.71 - ETA: 4s - loss: 0.5595 - accuracy: 0.71 - ETA: 3s - loss: 0.5585 - accuracy: 0.71 - ETA: 3s - loss: 0.5574 - accuracy: 0.71 - ETA: 2s - loss: 0.5558 - accuracy: 0.71 - ETA: 2s - loss: 0.5547 - accuracy: 0.72 - ETA: 2s - loss: 0.5541 - accuracy: 0.72 - ETA: 2s - loss: 0.5540 - accuracy: 0.72 - ETA: 1s - loss: 0.5532 - accuracy: 0.72 - ETA: 1s - loss: 0.5538 - accuracy: 0.72 - ETA: 1s - loss: 0.5528 - accuracy: 0.72 - ETA: 1s - loss: 0.5533 - accuracy: 0.72 - ETA: 0s - loss: 0.5532 - accuracy: 0.72 - ETA: 0s - loss: 0.5530 - accuracy: 0.72 - ETA: 0s - loss: 0.5525 - accuracy: 0.72 - ETA: 0s - loss: 0.5512 - accuracy: 0.72 - 10s 326ms/step - loss: 0.5518 - accuracy: 0.7271 - val_loss: 0.5466 - val_accuracy: 0.7309\n",
      "Epoch 6/20\n"
     ]
    },
    {
     "name": "stdout",
     "output_type": "stream",
     "text": [
      "30/30 [==============================] - ETA: 41s - loss: 0.5232 - accuracy: 0.748 - ETA: 23s - loss: 0.5311 - accuracy: 0.733 - ETA: 17s - loss: 0.5353 - accuracy: 0.736 - ETA: 13s - loss: 0.5363 - accuracy: 0.732 - ETA: 11s - loss: 0.5363 - accuracy: 0.732 - ETA: 9s - loss: 0.5349 - accuracy: 0.734 - ETA: 8s - loss: 0.5363 - accuracy: 0.73 - ETA: 7s - loss: 0.5355 - accuracy: 0.73 - ETA: 7s - loss: 0.5354 - accuracy: 0.73 - ETA: 6s - loss: 0.5318 - accuracy: 0.74 - ETA: 5s - loss: 0.5312 - accuracy: 0.74 - ETA: 5s - loss: 0.5325 - accuracy: 0.74 - ETA: 4s - loss: 0.5324 - accuracy: 0.74 - ETA: 4s - loss: 0.5302 - accuracy: 0.74 - ETA: 3s - loss: 0.5291 - accuracy: 0.74 - ETA: 3s - loss: 0.5283 - accuracy: 0.74 - ETA: 3s - loss: 0.5275 - accuracy: 0.74 - ETA: 2s - loss: 0.5259 - accuracy: 0.74 - ETA: 2s - loss: 0.5248 - accuracy: 0.74 - ETA: 2s - loss: 0.5241 - accuracy: 0.74 - ETA: 2s - loss: 0.5241 - accuracy: 0.74 - ETA: 1s - loss: 0.5233 - accuracy: 0.75 - ETA: 1s - loss: 0.5238 - accuracy: 0.75 - ETA: 1s - loss: 0.5230 - accuracy: 0.75 - ETA: 1s - loss: 0.5234 - accuracy: 0.75 - ETA: 0s - loss: 0.5234 - accuracy: 0.75 - ETA: 0s - loss: 0.5231 - accuracy: 0.75 - ETA: 0s - loss: 0.5226 - accuracy: 0.75 - ETA: 0s - loss: 0.5213 - accuracy: 0.75 - 10s 319ms/step - loss: 0.5219 - accuracy: 0.7531 - val_loss: 0.5215 - val_accuracy: 0.7496\n",
      "Epoch 7/20\n",
      "30/30 [==============================] - ETA: 45s - loss: 0.4970 - accuracy: 0.761 - ETA: 25s - loss: 0.5033 - accuracy: 0.756 - ETA: 18s - loss: 0.5071 - accuracy: 0.759 - ETA: 14s - loss: 0.5076 - accuracy: 0.757 - ETA: 12s - loss: 0.5081 - accuracy: 0.756 - ETA: 10s - loss: 0.5076 - accuracy: 0.757 - ETA: 9s - loss: 0.5084 - accuracy: 0.755 - ETA: 8s - loss: 0.5074 - accuracy: 0.75 - ETA: 7s - loss: 0.5076 - accuracy: 0.76 - ETA: 6s - loss: 0.5038 - accuracy: 0.76 - ETA: 6s - loss: 0.5032 - accuracy: 0.76 - ETA: 5s - loss: 0.5041 - accuracy: 0.76 - ETA: 4s - loss: 0.5042 - accuracy: 0.76 - ETA: 4s - loss: 0.5019 - accuracy: 0.76 - ETA: 4s - loss: 0.5008 - accuracy: 0.76 - ETA: 3s - loss: 0.5002 - accuracy: 0.76 - ETA: 3s - loss: 0.4995 - accuracy: 0.76 - ETA: 3s - loss: 0.4979 - accuracy: 0.76 - ETA: 2s - loss: 0.4969 - accuracy: 0.76 - ETA: 2s - loss: 0.4961 - accuracy: 0.76 - ETA: 2s - loss: 0.4960 - accuracy: 0.77 - ETA: 1s - loss: 0.4952 - accuracy: 0.77 - ETA: 1s - loss: 0.4956 - accuracy: 0.77 - ETA: 1s - loss: 0.4949 - accuracy: 0.77 - ETA: 1s - loss: 0.4952 - accuracy: 0.77 - ETA: 0s - loss: 0.4952 - accuracy: 0.77 - ETA: 0s - loss: 0.4948 - accuracy: 0.77 - ETA: 0s - loss: 0.4944 - accuracy: 0.77 - ETA: 0s - loss: 0.4932 - accuracy: 0.77 - 10s 328ms/step - loss: 0.4935 - accuracy: 0.7751 - val_loss: 0.4973 - val_accuracy: 0.7719\n",
      "Epoch 8/20\n",
      "30/30 [==============================] - ETA: 44s - loss: 0.4706 - accuracy: 0.783 - ETA: 24s - loss: 0.4761 - accuracy: 0.785 - ETA: 18s - loss: 0.4797 - accuracy: 0.784 - ETA: 14s - loss: 0.4794 - accuracy: 0.782 - ETA: 12s - loss: 0.4802 - accuracy: 0.782 - ETA: 10s - loss: 0.4808 - accuracy: 0.781 - ETA: 9s - loss: 0.4810 - accuracy: 0.778 - ETA: 8s - loss: 0.4798 - accuracy: 0.78 - ETA: 7s - loss: 0.4801 - accuracy: 0.78 - ETA: 6s - loss: 0.4763 - accuracy: 0.78 - ETA: 6s - loss: 0.4756 - accuracy: 0.78 - ETA: 5s - loss: 0.4760 - accuracy: 0.78 - ETA: 5s - loss: 0.4764 - accuracy: 0.78 - ETA: 4s - loss: 0.4738 - accuracy: 0.78 - ETA: 4s - loss: 0.4728 - accuracy: 0.78 - ETA: 3s - loss: 0.4724 - accuracy: 0.78 - ETA: 3s - loss: 0.4718 - accuracy: 0.78 - ETA: 3s - loss: 0.4702 - accuracy: 0.78 - ETA: 2s - loss: 0.4692 - accuracy: 0.78 - ETA: 2s - loss: 0.4682 - accuracy: 0.79 - ETA: 2s - loss: 0.4681 - accuracy: 0.79 - ETA: 1s - loss: 0.4673 - accuracy: 0.79 - ETA: 1s - loss: 0.4675 - accuracy: 0.79 - ETA: 1s - loss: 0.4670 - accuracy: 0.79 - ETA: 1s - loss: 0.4672 - accuracy: 0.79 - ETA: 0s - loss: 0.4672 - accuracy: 0.79 - ETA: 0s - loss: 0.4667 - accuracy: 0.79 - ETA: 0s - loss: 0.4663 - accuracy: 0.79 - ETA: 0s - loss: 0.4652 - accuracy: 0.79 - 10s 327ms/step - loss: 0.4653 - accuracy: 0.7955 - val_loss: 0.4734 - val_accuracy: 0.7838\n",
      "Epoch 9/20\n",
      "30/30 [==============================] - ETA: 45s - loss: 0.4438 - accuracy: 0.798 - ETA: 25s - loss: 0.4487 - accuracy: 0.804 - ETA: 18s - loss: 0.4520 - accuracy: 0.804 - ETA: 14s - loss: 0.4509 - accuracy: 0.802 - ETA: 12s - loss: 0.4523 - accuracy: 0.800 - ETA: 10s - loss: 0.4539 - accuracy: 0.800 - ETA: 9s - loss: 0.4537 - accuracy: 0.799 - ETA: 8s - loss: 0.4522 - accuracy: 0.80 - ETA: 7s - loss: 0.4526 - accuracy: 0.80 - ETA: 6s - loss: 0.4488 - accuracy: 0.80 - ETA: 6s - loss: 0.4480 - accuracy: 0.80 - ETA: 5s - loss: 0.4478 - accuracy: 0.80 - ETA: 4s - loss: 0.4484 - accuracy: 0.80 - ETA: 4s - loss: 0.4457 - accuracy: 0.80 - ETA: 4s - loss: 0.4447 - accuracy: 0.80 - ETA: 3s - loss: 0.4444 - accuracy: 0.80 - ETA: 3s - loss: 0.4440 - accuracy: 0.80 - ETA: 3s - loss: 0.4423 - accuracy: 0.80 - ETA: 2s - loss: 0.4414 - accuracy: 0.80 - ETA: 2s - loss: 0.4403 - accuracy: 0.80 - ETA: 2s - loss: 0.4401 - accuracy: 0.80 - ETA: 1s - loss: 0.4394 - accuracy: 0.81 - ETA: 1s - loss: 0.4394 - accuracy: 0.81 - ETA: 1s - loss: 0.4389 - accuracy: 0.81 - ETA: 1s - loss: 0.4391 - accuracy: 0.81 - ETA: 0s - loss: 0.4392 - accuracy: 0.81 - ETA: 0s - loss: 0.4386 - accuracy: 0.81 - ETA: 0s - loss: 0.4381 - accuracy: 0.81 - ETA: 0s - loss: 0.4371 - accuracy: 0.81 - 10s 327ms/step - loss: 0.4370 - accuracy: 0.8141 - val_loss: 0.4501 - val_accuracy: 0.7969\n",
      "Epoch 10/20\n",
      "30/30 [==============================] - ETA: 40s - loss: 0.4169 - accuracy: 0.818 - ETA: 22s - loss: 0.4212 - accuracy: 0.825 - ETA: 16s - loss: 0.4242 - accuracy: 0.822 - ETA: 13s - loss: 0.4223 - accuracy: 0.820 - ETA: 11s - loss: 0.4241 - accuracy: 0.819 - ETA: 9s - loss: 0.4269 - accuracy: 0.817 - ETA: 8s - loss: 0.4263 - accuracy: 0.81 - ETA: 7s - loss: 0.4246 - accuracy: 0.81 - ETA: 7s - loss: 0.4252 - accuracy: 0.81 - ETA: 6s - loss: 0.4214 - accuracy: 0.82 - ETA: 5s - loss: 0.4204 - accuracy: 0.82 - ETA: 5s - loss: 0.4198 - accuracy: 0.82 - ETA: 4s - loss: 0.4206 - accuracy: 0.82 - ETA: 4s - loss: 0.4178 - accuracy: 0.82 - ETA: 3s - loss: 0.4167 - accuracy: 0.82 - ETA: 3s - loss: 0.4167 - accuracy: 0.82 - ETA: 3s - loss: 0.4164 - accuracy: 0.82 - ETA: 2s - loss: 0.4147 - accuracy: 0.82 - ETA: 2s - loss: 0.4138 - accuracy: 0.82 - ETA: 2s - loss: 0.4126 - accuracy: 0.82 - ETA: 2s - loss: 0.4124 - accuracy: 0.82 - ETA: 1s - loss: 0.4116 - accuracy: 0.82 - ETA: 1s - loss: 0.4115 - accuracy: 0.82 - ETA: 1s - loss: 0.4111 - accuracy: 0.82 - ETA: 1s - loss: 0.4113 - accuracy: 0.82 - ETA: 0s - loss: 0.4113 - accuracy: 0.82 - ETA: 0s - loss: 0.4106 - accuracy: 0.83 - ETA: 0s - loss: 0.4102 - accuracy: 0.83 - ETA: 0s - loss: 0.4092 - accuracy: 0.83 - 10s 324ms/step - loss: 0.4089 - accuracy: 0.8317 - val_loss: 0.4276 - val_accuracy: 0.8124\n",
      "Epoch 11/20\n",
      "30/30 [==============================] - ETA: 47s - loss: 0.3906 - accuracy: 0.830 - ETA: 26s - loss: 0.3942 - accuracy: 0.834 - ETA: 18s - loss: 0.3970 - accuracy: 0.834 - ETA: 14s - loss: 0.3943 - accuracy: 0.832 - ETA: 12s - loss: 0.3966 - accuracy: 0.832 - ETA: 10s - loss: 0.4004 - accuracy: 0.831 - ETA: 9s - loss: 0.3996 - accuracy: 0.832 - ETA: 8s - loss: 0.3977 - accuracy: 0.83 - ETA: 7s - loss: 0.3984 - accuracy: 0.83 - ETA: 6s - loss: 0.3946 - accuracy: 0.84 - ETA: 6s - loss: 0.3934 - accuracy: 0.84 - ETA: 5s - loss: 0.3924 - accuracy: 0.84 - ETA: 5s - loss: 0.3933 - accuracy: 0.84 - ETA: 4s - loss: 0.3905 - accuracy: 0.84 - ETA: 4s - loss: 0.3895 - accuracy: 0.84 - ETA: 3s - loss: 0.3896 - accuracy: 0.84 - ETA: 3s - loss: 0.3893 - accuracy: 0.84 - ETA: 3s - loss: 0.3877 - accuracy: 0.84 - ETA: 2s - loss: 0.3867 - accuracy: 0.84 - ETA: 2s - loss: 0.3855 - accuracy: 0.84 - ETA: 2s - loss: 0.3853 - accuracy: 0.84 - ETA: 1s - loss: 0.3846 - accuracy: 0.84 - ETA: 1s - loss: 0.3843 - accuracy: 0.84 - ETA: 1s - loss: 0.3840 - accuracy: 0.84 - ETA: 1s - loss: 0.3842 - accuracy: 0.84 - ETA: 0s - loss: 0.3842 - accuracy: 0.84 - ETA: 0s - loss: 0.3834 - accuracy: 0.84 - ETA: 0s - loss: 0.3830 - accuracy: 0.84 - ETA: 0s - loss: 0.3821 - accuracy: 0.84 - 10s 331ms/step - loss: 0.3816 - accuracy: 0.8492 - val_loss: 0.4065 - val_accuracy: 0.8234\n"
     ]
    },
    {
     "name": "stdout",
     "output_type": "stream",
     "text": [
      "Epoch 12/20\n",
      "30/30 [==============================] - ETA: 43s - loss: 0.3655 - accuracy: 0.847 - ETA: 24s - loss: 0.3682 - accuracy: 0.849 - ETA: 17s - loss: 0.3707 - accuracy: 0.847 - ETA: 14s - loss: 0.3673 - accuracy: 0.847 - ETA: 11s - loss: 0.3701 - accuracy: 0.846 - ETA: 10s - loss: 0.3749 - accuracy: 0.844 - ETA: 9s - loss: 0.3739 - accuracy: 0.847 - ETA: 8s - loss: 0.3718 - accuracy: 0.84 - ETA: 7s - loss: 0.3727 - accuracy: 0.84 - ETA: 6s - loss: 0.3688 - accuracy: 0.85 - ETA: 6s - loss: 0.3675 - accuracy: 0.85 - ETA: 5s - loss: 0.3662 - accuracy: 0.85 - ETA: 4s - loss: 0.3673 - accuracy: 0.85 - ETA: 4s - loss: 0.3645 - accuracy: 0.85 - ETA: 4s - loss: 0.3635 - accuracy: 0.85 - ETA: 3s - loss: 0.3637 - accuracy: 0.85 - ETA: 3s - loss: 0.3635 - accuracy: 0.85 - ETA: 3s - loss: 0.3620 - accuracy: 0.85 - ETA: 2s - loss: 0.3610 - accuracy: 0.85 - ETA: 2s - loss: 0.3597 - accuracy: 0.86 - ETA: 2s - loss: 0.3595 - accuracy: 0.85 - ETA: 1s - loss: 0.3588 - accuracy: 0.86 - ETA: 1s - loss: 0.3584 - accuracy: 0.86 - ETA: 1s - loss: 0.3582 - accuracy: 0.86 - ETA: 1s - loss: 0.3584 - accuracy: 0.86 - ETA: 0s - loss: 0.3584 - accuracy: 0.86 - ETA: 0s - loss: 0.3576 - accuracy: 0.86 - ETA: 0s - loss: 0.3572 - accuracy: 0.86 - ETA: 0s - loss: 0.3563 - accuracy: 0.86 - 10s 327ms/step - loss: 0.3557 - accuracy: 0.8639 - val_loss: 0.3874 - val_accuracy: 0.8341\n",
      "Epoch 13/20\n",
      "30/30 [==============================] - ETA: 48s - loss: 0.3422 - accuracy: 0.865 - ETA: 26s - loss: 0.3438 - accuracy: 0.862 - ETA: 19s - loss: 0.3459 - accuracy: 0.863 - ETA: 15s - loss: 0.3420 - accuracy: 0.862 - ETA: 12s - loss: 0.3452 - accuracy: 0.862 - ETA: 10s - loss: 0.3508 - accuracy: 0.858 - ETA: 9s - loss: 0.3498 - accuracy: 0.860 - ETA: 8s - loss: 0.3476 - accuracy: 0.86 - ETA: 7s - loss: 0.3485 - accuracy: 0.86 - ETA: 6s - loss: 0.3447 - accuracy: 0.86 - ETA: 6s - loss: 0.3432 - accuracy: 0.86 - ETA: 5s - loss: 0.3417 - accuracy: 0.86 - ETA: 5s - loss: 0.3429 - accuracy: 0.86 - ETA: 4s - loss: 0.3401 - accuracy: 0.87 - ETA: 4s - loss: 0.3392 - accuracy: 0.87 - ETA: 3s - loss: 0.3395 - accuracy: 0.86 - ETA: 3s - loss: 0.3394 - accuracy: 0.86 - ETA: 3s - loss: 0.3379 - accuracy: 0.87 - ETA: 2s - loss: 0.3369 - accuracy: 0.87 - ETA: 2s - loss: 0.3356 - accuracy: 0.87 - ETA: 2s - loss: 0.3354 - accuracy: 0.87 - ETA: 1s - loss: 0.3348 - accuracy: 0.87 - ETA: 1s - loss: 0.3343 - accuracy: 0.87 - ETA: 1s - loss: 0.3342 - accuracy: 0.87 - ETA: 1s - loss: 0.3344 - accuracy: 0.87 - ETA: 0s - loss: 0.3344 - accuracy: 0.87 - ETA: 0s - loss: 0.3335 - accuracy: 0.87 - ETA: 0s - loss: 0.3332 - accuracy: 0.87 - ETA: 0s - loss: 0.3324 - accuracy: 0.87 - 10s 333ms/step - loss: 0.3316 - accuracy: 0.8749 - val_loss: 0.3705 - val_accuracy: 0.8435\n",
      "Epoch 14/20\n",
      "30/30 [==============================] - ETA: 47s - loss: 0.3207 - accuracy: 0.875 - ETA: 26s - loss: 0.3214 - accuracy: 0.869 - ETA: 18s - loss: 0.3229 - accuracy: 0.869 - ETA: 15s - loss: 0.3185 - accuracy: 0.870 - ETA: 12s - loss: 0.3222 - accuracy: 0.871 - ETA: 10s - loss: 0.3284 - accuracy: 0.867 - ETA: 9s - loss: 0.3275 - accuracy: 0.868 - ETA: 8s - loss: 0.3251 - accuracy: 0.86 - ETA: 7s - loss: 0.3262 - accuracy: 0.87 - ETA: 6s - loss: 0.3224 - accuracy: 0.87 - ETA: 6s - loss: 0.3209 - accuracy: 0.87 - ETA: 5s - loss: 0.3191 - accuracy: 0.87 - ETA: 5s - loss: 0.3205 - accuracy: 0.87 - ETA: 4s - loss: 0.3177 - accuracy: 0.87 - ETA: 4s - loss: 0.3169 - accuracy: 0.87 - ETA: 3s - loss: 0.3172 - accuracy: 0.87 - ETA: 3s - loss: 0.3172 - accuracy: 0.87 - ETA: 3s - loss: 0.3159 - accuracy: 0.88 - ETA: 2s - loss: 0.3148 - accuracy: 0.88 - ETA: 2s - loss: 0.3135 - accuracy: 0.88 - ETA: 2s - loss: 0.3134 - accuracy: 0.88 - ETA: 1s - loss: 0.3128 - accuracy: 0.88 - ETA: 1s - loss: 0.3123 - accuracy: 0.88 - ETA: 1s - loss: 0.3122 - accuracy: 0.88 - ETA: 1s - loss: 0.3124 - accuracy: 0.88 - ETA: 0s - loss: 0.3124 - accuracy: 0.88 - ETA: 0s - loss: 0.3115 - accuracy: 0.88 - ETA: 0s - loss: 0.3112 - accuracy: 0.88 - ETA: 0s - loss: 0.3104 - accuracy: 0.88 - 9s 308ms/step - loss: 0.3096 - accuracy: 0.8851 - val_loss: 0.3560 - val_accuracy: 0.8503\n",
      "Epoch 15/20\n",
      "30/30 [==============================] - ETA: 44s - loss: 0.3008 - accuracy: 0.878 - ETA: 25s - loss: 0.3007 - accuracy: 0.877 - ETA: 17s - loss: 0.3016 - accuracy: 0.877 - ETA: 13s - loss: 0.2970 - accuracy: 0.879 - ETA: 11s - loss: 0.3011 - accuracy: 0.878 - ETA: 10s - loss: 0.3077 - accuracy: 0.875 - ETA: 9s - loss: 0.3070 - accuracy: 0.877 - ETA: 8s - loss: 0.3046 - accuracy: 0.87 - ETA: 7s - loss: 0.3057 - accuracy: 0.87 - ETA: 6s - loss: 0.3020 - accuracy: 0.88 - ETA: 5s - loss: 0.3004 - accuracy: 0.88 - ETA: 5s - loss: 0.2986 - accuracy: 0.88 - ETA: 4s - loss: 0.3000 - accuracy: 0.88 - ETA: 4s - loss: 0.2973 - accuracy: 0.88 - ETA: 4s - loss: 0.2966 - accuracy: 0.88 - ETA: 3s - loss: 0.2969 - accuracy: 0.88 - ETA: 3s - loss: 0.2969 - accuracy: 0.88 - ETA: 2s - loss: 0.2957 - accuracy: 0.88 - ETA: 2s - loss: 0.2946 - accuracy: 0.88 - ETA: 2s - loss: 0.2934 - accuracy: 0.88 - ETA: 2s - loss: 0.2933 - accuracy: 0.88 - ETA: 1s - loss: 0.2927 - accuracy: 0.88 - ETA: 1s - loss: 0.2922 - accuracy: 0.89 - ETA: 1s - loss: 0.2921 - accuracy: 0.89 - ETA: 1s - loss: 0.2924 - accuracy: 0.89 - ETA: 0s - loss: 0.2923 - accuracy: 0.89 - ETA: 0s - loss: 0.2914 - accuracy: 0.89 - ETA: 0s - loss: 0.2911 - accuracy: 0.89 - ETA: 0s - loss: 0.2905 - accuracy: 0.89 - 10s 323ms/step - loss: 0.2896 - accuracy: 0.8936 - val_loss: 0.3436 - val_accuracy: 0.8557\n",
      "Epoch 16/20\n",
      "30/30 [==============================] - ETA: 47s - loss: 0.2829 - accuracy: 0.884 - ETA: 26s - loss: 0.2820 - accuracy: 0.884 - ETA: 19s - loss: 0.2822 - accuracy: 0.886 - ETA: 15s - loss: 0.2775 - accuracy: 0.889 - ETA: 12s - loss: 0.2819 - accuracy: 0.888 - ETA: 10s - loss: 0.2888 - accuracy: 0.885 - ETA: 9s - loss: 0.2882 - accuracy: 0.887 - ETA: 8s - loss: 0.2858 - accuracy: 0.88 - ETA: 7s - loss: 0.2870 - accuracy: 0.88 - ETA: 6s - loss: 0.2834 - accuracy: 0.89 - ETA: 6s - loss: 0.2818 - accuracy: 0.89 - ETA: 5s - loss: 0.2799 - accuracy: 0.89 - ETA: 5s - loss: 0.2813 - accuracy: 0.89 - ETA: 4s - loss: 0.2788 - accuracy: 0.89 - ETA: 4s - loss: 0.2781 - accuracy: 0.89 - ETA: 3s - loss: 0.2784 - accuracy: 0.89 - ETA: 3s - loss: 0.2785 - accuracy: 0.89 - ETA: 3s - loss: 0.2775 - accuracy: 0.89 - ETA: 2s - loss: 0.2764 - accuracy: 0.89 - ETA: 2s - loss: 0.2751 - accuracy: 0.89 - ETA: 2s - loss: 0.2750 - accuracy: 0.89 - ETA: 1s - loss: 0.2745 - accuracy: 0.89 - ETA: 1s - loss: 0.2740 - accuracy: 0.89 - ETA: 1s - loss: 0.2740 - accuracy: 0.89 - ETA: 1s - loss: 0.2742 - accuracy: 0.89 - ETA: 0s - loss: 0.2741 - accuracy: 0.89 - ETA: 0s - loss: 0.2732 - accuracy: 0.90 - ETA: 0s - loss: 0.2730 - accuracy: 0.90 - ETA: 0s - loss: 0.2724 - accuracy: 0.90 - 10s 325ms/step - loss: 0.2714 - accuracy: 0.9014 - val_loss: 0.3331 - val_accuracy: 0.8598\n",
      "Epoch 17/20\n",
      "30/30 [==============================] - ETA: 48s - loss: 0.2666 - accuracy: 0.892 - ETA: 27s - loss: 0.2651 - accuracy: 0.894 - ETA: 19s - loss: 0.2646 - accuracy: 0.895 - ETA: 14s - loss: 0.2598 - accuracy: 0.898 - ETA: 12s - loss: 0.2644 - accuracy: 0.896 - ETA: 10s - loss: 0.2714 - accuracy: 0.892 - ETA: 9s - loss: 0.2711 - accuracy: 0.894 - ETA: 8s - loss: 0.2686 - accuracy: 0.89 - ETA: 7s - loss: 0.2698 - accuracy: 0.89 - ETA: 6s - loss: 0.2665 - accuracy: 0.89 - ETA: 6s - loss: 0.2649 - accuracy: 0.90 - ETA: 5s - loss: 0.2629 - accuracy: 0.90 - ETA: 5s - loss: 0.2644 - accuracy: 0.90 - ETA: 4s - loss: 0.2619 - accuracy: 0.90 - ETA: 4s - loss: 0.2614 - accuracy: 0.90 - ETA: 3s - loss: 0.2617 - accuracy: 0.90 - ETA: 3s - loss: 0.2617 - accuracy: 0.90 - ETA: 3s - loss: 0.2608 - accuracy: 0.90 - ETA: 2s - loss: 0.2597 - accuracy: 0.90 - ETA: 2s - loss: 0.2585 - accuracy: 0.90 - ETA: 2s - loss: 0.2584 - accuracy: 0.90 - ETA: 1s - loss: 0.2579 - accuracy: 0.90 - ETA: 1s - loss: 0.2574 - accuracy: 0.90 - ETA: 1s - loss: 0.2575 - accuracy: 0.90 - ETA: 1s - loss: 0.2577 - accuracy: 0.90 - ETA: 0s - loss: 0.2576 - accuracy: 0.90 - ETA: 0s - loss: 0.2567 - accuracy: 0.90 - ETA: 0s - loss: 0.2565 - accuracy: 0.90 - ETA: 0s - loss: 0.2559 - accuracy: 0.90 - 10s 323ms/step - loss: 0.2549 - accuracy: 0.9083 - val_loss: 0.3244 - val_accuracy: 0.8639\n"
     ]
    },
    {
     "name": "stdout",
     "output_type": "stream",
     "text": [
      "Epoch 18/20\n",
      "30/30 [==============================] - ETA: 41s - loss: 0.2519 - accuracy: 0.898 - ETA: 23s - loss: 0.2497 - accuracy: 0.901 - ETA: 16s - loss: 0.2485 - accuracy: 0.904 - ETA: 13s - loss: 0.2438 - accuracy: 0.906 - ETA: 11s - loss: 0.2484 - accuracy: 0.903 - ETA: 10s - loss: 0.2555 - accuracy: 0.900 - ETA: 8s - loss: 0.2553 - accuracy: 0.901 - ETA: 8s - loss: 0.2530 - accuracy: 0.90 - ETA: 7s - loss: 0.2542 - accuracy: 0.90 - ETA: 6s - loss: 0.2510 - accuracy: 0.90 - ETA: 5s - loss: 0.2494 - accuracy: 0.90 - ETA: 5s - loss: 0.2474 - accuracy: 0.90 - ETA: 4s - loss: 0.2489 - accuracy: 0.90 - ETA: 4s - loss: 0.2466 - accuracy: 0.91 - ETA: 4s - loss: 0.2461 - accuracy: 0.91 - ETA: 3s - loss: 0.2464 - accuracy: 0.91 - ETA: 3s - loss: 0.2464 - accuracy: 0.90 - ETA: 2s - loss: 0.2457 - accuracy: 0.91 - ETA: 2s - loss: 0.2446 - accuracy: 0.91 - ETA: 2s - loss: 0.2434 - accuracy: 0.91 - ETA: 2s - loss: 0.2433 - accuracy: 0.91 - ETA: 1s - loss: 0.2428 - accuracy: 0.91 - ETA: 1s - loss: 0.2423 - accuracy: 0.91 - ETA: 1s - loss: 0.2425 - accuracy: 0.91 - ETA: 1s - loss: 0.2426 - accuracy: 0.91 - ETA: 0s - loss: 0.2425 - accuracy: 0.91 - ETA: 0s - loss: 0.2416 - accuracy: 0.91 - ETA: 0s - loss: 0.2414 - accuracy: 0.91 - ETA: 0s - loss: 0.2409 - accuracy: 0.91 - 9s 314ms/step - loss: 0.2398 - accuracy: 0.9149 - val_loss: 0.3170 - val_accuracy: 0.8674\n",
      "Epoch 19/20\n",
      "30/30 [==============================] - ETA: 42s - loss: 0.2385 - accuracy: 0.914 - ETA: 23s - loss: 0.2357 - accuracy: 0.915 - ETA: 17s - loss: 0.2339 - accuracy: 0.918 - ETA: 14s - loss: 0.2291 - accuracy: 0.918 - ETA: 11s - loss: 0.2338 - accuracy: 0.914 - ETA: 10s - loss: 0.2408 - accuracy: 0.909 - ETA: 9s - loss: 0.2408 - accuracy: 0.909 - ETA: 8s - loss: 0.2386 - accuracy: 0.90 - ETA: 7s - loss: 0.2397 - accuracy: 0.90 - ETA: 6s - loss: 0.2367 - accuracy: 0.91 - ETA: 5s - loss: 0.2352 - accuracy: 0.91 - ETA: 5s - loss: 0.2332 - accuracy: 0.91 - ETA: 4s - loss: 0.2348 - accuracy: 0.91 - ETA: 4s - loss: 0.2325 - accuracy: 0.91 - ETA: 4s - loss: 0.2322 - accuracy: 0.91 - ETA: 3s - loss: 0.2324 - accuracy: 0.91 - ETA: 3s - loss: 0.2325 - accuracy: 0.91 - ETA: 3s - loss: 0.2318 - accuracy: 0.91 - ETA: 2s - loss: 0.2307 - accuracy: 0.91 - ETA: 2s - loss: 0.2295 - accuracy: 0.91 - ETA: 2s - loss: 0.2294 - accuracy: 0.91 - ETA: 1s - loss: 0.2290 - accuracy: 0.91 - ETA: 1s - loss: 0.2284 - accuracy: 0.91 - ETA: 1s - loss: 0.2287 - accuracy: 0.91 - ETA: 1s - loss: 0.2288 - accuracy: 0.91 - ETA: 0s - loss: 0.2287 - accuracy: 0.91 - ETA: 0s - loss: 0.2278 - accuracy: 0.91 - ETA: 0s - loss: 0.2276 - accuracy: 0.92 - ETA: 0s - loss: 0.2272 - accuracy: 0.92 - 10s 327ms/step - loss: 0.2260 - accuracy: 0.9208 - val_loss: 0.3109 - val_accuracy: 0.8707\n",
      "Epoch 20/20\n",
      "30/30 [==============================] - ETA: 47s - loss: 0.2261 - accuracy: 0.916 - ETA: 26s - loss: 0.2228 - accuracy: 0.919 - ETA: 18s - loss: 0.2204 - accuracy: 0.923 - ETA: 14s - loss: 0.2157 - accuracy: 0.924 - ETA: 12s - loss: 0.2203 - accuracy: 0.920 - ETA: 10s - loss: 0.2271 - accuracy: 0.916 - ETA: 9s - loss: 0.2273 - accuracy: 0.916 - ETA: 8s - loss: 0.2252 - accuracy: 0.91 - ETA: 7s - loss: 0.2263 - accuracy: 0.91 - ETA: 6s - loss: 0.2235 - accuracy: 0.91 - ETA: 6s - loss: 0.2221 - accuracy: 0.92 - ETA: 5s - loss: 0.2201 - accuracy: 0.92 - ETA: 5s - loss: 0.2217 - accuracy: 0.92 - ETA: 4s - loss: 0.2196 - accuracy: 0.92 - ETA: 4s - loss: 0.2193 - accuracy: 0.92 - ETA: 3s - loss: 0.2195 - accuracy: 0.92 - ETA: 3s - loss: 0.2195 - accuracy: 0.92 - ETA: 3s - loss: 0.2189 - accuracy: 0.92 - ETA: 2s - loss: 0.2179 - accuracy: 0.92 - ETA: 2s - loss: 0.2167 - accuracy: 0.92 - ETA: 2s - loss: 0.2166 - accuracy: 0.92 - ETA: 1s - loss: 0.2162 - accuracy: 0.92 - ETA: 1s - loss: 0.2157 - accuracy: 0.92 - ETA: 1s - loss: 0.2160 - accuracy: 0.92 - ETA: 1s - loss: 0.2161 - accuracy: 0.92 - ETA: 0s - loss: 0.2160 - accuracy: 0.92 - ETA: 0s - loss: 0.2150 - accuracy: 0.92 - ETA: 0s - loss: 0.2148 - accuracy: 0.92 - ETA: 0s - loss: 0.2144 - accuracy: 0.92 - 10s 320ms/step - loss: 0.2132 - accuracy: 0.9264 - val_loss: 0.3060 - val_accuracy: 0.8724\n"
     ]
    }
   ],
   "source": [
    "history = model.fit(train_data.shuffle(10000).batch(512),\n",
    "                    epochs=20,\n",
    "                    validation_data=validation_data.batch(512),\n",
    "                    verbose=1)"
   ]
  },
  {
   "cell_type": "code",
   "execution_count": 11,
   "metadata": {},
   "outputs": [
    {
     "name": "stdout",
     "output_type": "stream",
     "text": [
      "loss: 0.326\n",
      "accuracy: 0.860\n"
     ]
    }
   ],
   "source": [
    "results = model.evaluate(test_data.batch(512), verbose=0)\n",
    "for name, value in zip(model.metrics_names, results):\n",
    "  print(\"%s: %.3f\" % (name, value))"
   ]
  },
  {
   "cell_type": "code",
   "execution_count": null,
   "metadata": {},
   "outputs": [],
   "source": []
  }
 ],
 "metadata": {
  "kernelspec": {
   "display_name": "Python [conda env:py3-TF2.0] *",
   "language": "python",
   "name": "conda-env-py3-TF2.0-py"
  },
  "language_info": {
   "codemirror_mode": {
    "name": "ipython",
    "version": 3
   },
   "file_extension": ".py",
   "mimetype": "text/x-python",
   "name": "python",
   "nbconvert_exporter": "python",
   "pygments_lexer": "ipython3",
   "version": "3.7.3"
  }
 },
 "nbformat": 4,
 "nbformat_minor": 2
}
