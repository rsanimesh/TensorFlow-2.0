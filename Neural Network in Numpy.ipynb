{
 "cells": [
  {
   "cell_type": "markdown",
   "metadata": {},
   "source": [
    "<div style=\"text-align:center\">\n",
    "<h1>Neural Network in Python from Scratch</h1>\n",
    "<hr>\n",
    "<h3>In Numpy</h3>\n",
    "</div>\n",
    "<hr>"
   ]
  },
  {
   "cell_type": "markdown",
   "metadata": {},
   "source": [
    "<p style=\"text-align:right\">By: Rahul Kumar Sinha</p>"
   ]
  },
  {
   "cell_type": "markdown",
   "metadata": {},
   "source": [
    "Classification Problem:\n",
    "\n",
    "We have two types of objects (Object 0 and Object 1). Every object has a length and width. We need to train our Neural Network to identify the objects based on their dimensions."
   ]
  },
  {
   "cell_type": "code",
   "execution_count": 232,
   "metadata": {
    "ExecuteTime": {
     "end_time": "2019-12-03T10:40:40.051548Z",
     "start_time": "2019-12-03T10:40:40.047512Z"
    }
   },
   "outputs": [],
   "source": [
    "# Data Points: length, width and object type(0,1)\n",
    "\n",
    "data = np.array([[3,   1.5, 1],\n",
    "                 [2,   1,   0],\n",
    "                 [4,   1.5, 1],\n",
    "                 [3,   1,   0],\n",
    "                 [3.5, 0.5, 1],\n",
    "                 [2,   0.5, 0],\n",
    "                 [5.5, 1,   1],\n",
    "                 [1,   1,   0]])\n",
    "\n",
    "unknown_object = [4.5,1] # Object type 1"
   ]
  },
  {
   "cell_type": "code",
   "execution_count": 233,
   "metadata": {
    "ExecuteTime": {
     "end_time": "2019-12-03T10:40:40.375869Z",
     "start_time": "2019-12-03T10:40:40.368863Z"
    }
   },
   "outputs": [],
   "source": [
    "# Libraries imports\n",
    "\n",
    "import numpy as np\n",
    "from matplotlib import pyplot as plt\n",
    "\n",
    "%matplotlib inline"
   ]
  },
  {
   "cell_type": "markdown",
   "metadata": {
    "cell_style": "split"
   },
   "source": [
    "### Network\n",
    "<img src=\"nn.jpg\" style=\"height:350px;width:600px;float:left\">"
   ]
  },
  {
   "cell_type": "markdown",
   "metadata": {
    "cell_style": "split"
   },
   "source": [
    "#### Inputs:\n",
    "* Length of object as x1\n",
    "* Width of object as x2\n",
    "\n",
    "#### Parameters:\n",
    "* Weights as w1 and w2\n",
    "* Bais as b\n",
    "\n",
    "#### Output:\n",
    "* Predicted Object Type as Y_predicted\n",
    "\n",
    "Note:\n",
    "Sigmoid is the activation function.\n",
    "\n",
    "Mathematical operation performed are - \n",
    "\n",
    "> #### a = x1 * w1 + x2 * w2 + b\n",
    "\n",
    "> #### Y_predicted = sigmoid(a)\n"
   ]
  },
  {
   "cell_type": "markdown",
   "metadata": {},
   "source": [
    "#### Sigmoid as Activation function\n",
    "Input range: -$\\infty$ to +$\\infty$ <br>\n",
    "Output range: 0 to 1"
   ]
  },
  {
   "cell_type": "code",
   "execution_count": 234,
   "metadata": {
    "ExecuteTime": {
     "end_time": "2019-12-03T10:40:41.705603Z",
     "start_time": "2019-12-03T10:40:41.700623Z"
    },
    "cell_style": "split"
   },
   "outputs": [],
   "source": [
    "# Creating Neural Network\n",
    "\n",
    "def sigmoid(x):\n",
    "    return 1/(1-np.exp(-x))\n",
    "\n",
    "def sigmoid_neuron(x1, x2, w1, w2, b):\n",
    "    h = x1*w1+x2*w2+b\n",
    "    return sigmoid(h)"
   ]
  },
  {
   "cell_type": "code",
   "execution_count": 235,
   "metadata": {
    "ExecuteTime": {
     "end_time": "2019-12-03T10:40:42.275084Z",
     "start_time": "2019-12-03T10:40:42.154374Z"
    },
    "cell_style": "split"
   },
   "outputs": [
    {
     "data": {
      "text/plain": [
       "[<matplotlib.lines.Line2D at 0x12e49c7b048>]"
      ]
     },
     "execution_count": 235,
     "metadata": {},
     "output_type": "execute_result"
    },
    {
     "data": {
      "image/png": "[encoded data removed]",
      "text/plain": [
       "<Figure size 432x288 with 1 Axes>"
      ]
     },
     "metadata": {
      "needs_background": "light"
     },
     "output_type": "display_data"
    }
   ],
   "source": [
    "T = np.linspace(-5,5, 1000)\n",
    "plt.plot(T,sigmoid(T), c='b')"
   ]
  },
  {
   "cell_type": "code",
   "execution_count": 258,
   "metadata": {
    "ExecuteTime": {
     "end_time": "2019-12-03T12:52:26.954042Z",
     "start_time": "2019-12-03T12:52:26.856108Z"
    }
   },
   "outputs": [
    {
     "name": "stdout",
     "output_type": "stream",
     "text": [
      "[-0.39902024187407004, -0.3501336570945399, -1.4910599711529786]\n"
     ]
    }
   ],
   "source": [
    "# Initilazing random weights and bais\n",
    "\n",
    "w1 = np.random.randn()\n",
    "w2 = np.random.randn()\n",
    "b = np.random.randn()\n",
    "\n",
    "print([w1, w2, b])\n",
    "\n",
    "# Initializing few variables need in loop\n",
    "learning_rate = 0.01\n",
    "epoch = 10000\n",
    "batch_size = 8"
   ]
  },
  {
   "cell_type": "code",
   "execution_count": 259,
   "metadata": {
    "ExecuteTime": {
     "end_time": "2019-12-03T12:52:30.695561Z",
     "start_time": "2019-12-03T12:52:27.439589Z"
    },
    "cell_style": "center"
   },
   "outputs": [
    {
     "name": "stdout",
     "output_type": "stream",
     "text": [
      "Loss after 0 epochs:  0.4715563699554275\n",
      "Loss after 200 epochs:  0.12080542795185785\n",
      "Loss after 400 epochs:  0.10491309792373496\n",
      "Loss after 600 epochs:  0.09530321944686668\n",
      "Loss after 800 epochs:  0.08865980038193685\n",
      "Loss after 1000 epochs:  0.08376196521448712\n",
      "Loss after 1200 epochs:  0.08000193673835256\n",
      "Loss after 1400 epochs:  0.07702772945721327\n",
      "Loss after 1600 epochs:  0.07461765551786395\n",
      "Loss after 1800 epochs:  0.07262449481017855\n",
      "Loss after 2000 epochs:  0.07094674846743504\n",
      "Loss after 2200 epochs:  0.06951239539533609\n",
      "Loss after 2400 epochs:  0.0682691188157071\n",
      "Loss after 2600 epochs:  0.06717815285617448\n",
      "Loss after 2800 epochs:  0.06621027138105438\n",
      "Loss after 3000 epochs:  0.06534309931510623\n",
      "Loss after 3200 epochs:  0.06455926808387263\n",
      "Loss after 3400 epochs:  0.0638451247244401\n",
      "Loss after 3600 epochs:  0.06318981258859745\n",
      "Loss after 3800 epochs:  0.0625846064217426\n",
      "Loss after 4000 epochs:  0.062022424632433536\n",
      "Loss after 4200 epochs:  0.06149746692139463\n",
      "Loss after 4400 epochs:  0.06100494185686216\n",
      "Loss after 4600 epochs:  0.060540859822667846\n",
      "Loss after 4800 epochs:  0.0601018740457681\n",
      "Loss after 5000 epochs:  0.05968515737565818\n",
      "Loss after 5200 epochs:  0.05928830592287375\n",
      "Loss after 5400 epochs:  0.05890926307028934\n",
      "Loss after 5600 epochs:  0.05854625907714859\n",
      "Loss after 5800 epochs:  0.05819776271892599\n",
      "Loss after 6000 epochs:  0.05786244229209816\n",
      "Loss after 6200 epochs:  0.057539133960917165\n",
      "Loss after 6400 epochs:  0.057226815901593876\n",
      "Loss after 6600 epochs:  0.0569245870554331\n",
      "Loss after 6800 epochs:  0.05663164956979605\n",
      "Loss after 7000 epochs:  0.05634729420801451\n",
      "Loss after 7200 epochs:  0.056070888163518726\n",
      "Loss after 7400 epochs:  0.05580186483174096\n",
      "Loss after 7600 epochs:  0.05553971518476459\n",
      "Loss after 7800 epochs:  0.055283980464761844\n",
      "Loss after 8000 epochs:  0.055034245967869266\n",
      "Loss after 8200 epochs:  0.05479013573390608\n",
      "Loss after 8400 epochs:  0.05455130799196368\n",
      "Loss after 8600 epochs:  0.05431745123943842\n",
      "Loss after 8800 epochs:  0.05408828085410352\n",
      "Loss after 9000 epochs:  0.05386353615651277\n",
      "Loss after 9200 epochs:  0.05364297785431537\n",
      "Loss after 9400 epochs:  0.05342638581164881\n",
      "Loss after 9600 epochs:  0.053213557096212616\n",
      "Loss after 9800 epochs:  0.053004304264348205\n",
      "\n",
      "Result\n",
      " --------------------------------------------------\n",
      "Final Weights and Bias:  3.7467437743501315 1.4078376015010468 -12.51338431635801\n",
      "Final Loss:  0.05279947491031639\n"
     ]
    }
   ],
   "source": [
    "# Training our neural network\n",
    "\n",
    "loss_list = []\n",
    "\n",
    "for i  in range(epoch):\n",
    "    \n",
    "    error = []\n",
    "    \n",
    "    indexes = np.random.choice(range(len(data)), batch_size, replace=False)\n",
    "    batch = data[indexes]\n",
    "    \n",
    "    # Forward Propogation\n",
    "    for each in batch:\n",
    "        x1,x2,y = each\n",
    "        y_predicted = sigmoid_neuron(x1,x2,w1,w2,b)\n",
    "        error.append(y_predicted-y)\n",
    "    \n",
    "    # Calculating the loss\n",
    "    loss =  np.sum(np.array(error) ** 2) / len(batch)\n",
    "    \n",
    "    # Saving epoch, loss and printing after every 10th part of epoch\n",
    "    if i%(epoch/50) == 0:\n",
    "        loss_list.append([i,loss])\n",
    "        print(f\"Loss after {i} epochs: \",loss)\n",
    "    \n",
    "    # Backward Propagation\n",
    "    w1 = w1-learning_rate*np.dot(np.array(error),batch[:,0])\n",
    "    w2 = w2-learning_rate*np.dot(np.array(error),batch[:,1])\n",
    "    b = b-learning_rate*sum(error)\n",
    "\n",
    "# Printing Final results\n",
    "print(\"\\nResult\\n\",\"-\"*50)\n",
    "print(\"Final Weights and Bias: \",w1,w2,b)\n",
    "print(\"Final Loss: \", np.sum(np.array(error) ** 2) / len(batch))"
   ]
  },
  {
   "cell_type": "code",
   "execution_count": 260,
   "metadata": {
    "ExecuteTime": {
     "end_time": "2019-12-03T12:52:36.771523Z",
     "start_time": "2019-12-03T12:52:36.218699Z"
    }
   },
   "outputs": [
    {
     "data": {
      "text/plain": [
       "[<matplotlib.lines.Line2D at 0x12e49f5c7f0>]"
      ]
     },
     "execution_count": 260,
     "metadata": {},
     "output_type": "execute_result"
    },
    {
     "data": {
      "image/png": "[encoded data removed]",
      "text/plain": [
       "<Figure size 432x288 with 1 Axes>"
      ]
     },
     "metadata": {
      "needs_background": "light"
     },
     "output_type": "display_data"
    }
   ],
   "source": [
    "# Loss Graph\n",
    "plt.plot(np.array(loss_list)[:,0],np.array(loss_list)[:,1])"
   ]
  },
  {
   "cell_type": "code",
   "execution_count": 261,
   "metadata": {
    "ExecuteTime": {
     "end_time": "2019-12-03T12:52:40.413455Z",
     "start_time": "2019-12-03T12:52:40.405069Z"
    },
    "cell_style": "center"
   },
   "outputs": [
    {
     "data": {
      "text/plain": [
       "0.9968424624226739"
      ]
     },
     "execution_count": 261,
     "metadata": {},
     "output_type": "execute_result"
    }
   ],
   "source": [
    "y_predicted = sigmoid_neuron(unknown_object[0],unknown_object[1],w1,w2,b)\n",
    "y_predicted"
   ]
  },
  {
   "cell_type": "markdown",
   "metadata": {},
   "source": [
    "### Little Optimized for fatser computation"
   ]
  },
  {
   "cell_type": "code",
   "execution_count": 241,
   "metadata": {
    "ExecuteTime": {
     "end_time": "2019-12-03T10:41:00.732107Z",
     "start_time": "2019-12-03T10:41:00.727121Z"
    }
   },
   "outputs": [],
   "source": [
    "def sigmoid_neuron_vec(x, w, b):\n",
    "    h = np.dot(x,w)+b\n",
    "    return sigmoid(h)"
   ]
  },
  {
   "cell_type": "code",
   "execution_count": 247,
   "metadata": {
    "ExecuteTime": {
     "end_time": "2019-12-03T10:42:28.124131Z",
     "start_time": "2019-12-03T10:42:27.199600Z"
    }
   },
   "outputs": [
    {
     "name": "stdout",
     "output_type": "stream",
     "text": [
      "Loss after 0 epochs:  0.07769002858092207\n",
      "Loss after 1000 epochs:  0.07769002858092208\n",
      "Loss after 2000 epochs:  0.07769002858092208\n",
      "Loss after 3000 epochs:  0.07769002858092208\n",
      "Loss after 4000 epochs:  0.07769002858092207\n",
      "Loss after 5000 epochs:  0.07769002858092208\n",
      "Loss after 6000 epochs:  0.07769002858092207\n",
      "Loss after 7000 epochs:  0.07769002858092208\n",
      "Loss after 8000 epochs:  0.07769002858092208\n",
      "Loss after 9000 epochs:  0.07769002858092208\n",
      "\n",
      "Result\n",
      " --------------------------------------------------\n",
      "Final Weights and Bias:  109.48601379139564 41.46420291481409 -5.57054621623768\n",
      "Final Loss:  0.07769002858092208\n"
     ]
    }
   ],
   "source": [
    "# Optimized Training our neural network\n",
    "\n",
    "loss_list = []\n",
    "\n",
    "for i  in range(epoch):\n",
    "    \n",
    "    indexes = np.random.choice(range(len(data)), batch_size, replace=False)\n",
    "    batch = data[indexes]\n",
    "    \n",
    "    \n",
    "    # Forward Propogation\n",
    "    x = batch[:,:2]\n",
    "    y = batch[:,2].reshape(8,1)\n",
    "    \n",
    "    y_predicted = sigmoid_neuron_vec(x,w,b)\n",
    "    \n",
    "    error = (y_predicted-y)[:,0]\n",
    "    \n",
    "    # Calculating the loss\n",
    "    loss =  np.sum(error ** 2) / len(batch)\n",
    "    \n",
    "    # Saving epoch, loss and printing after every 10th part of epoch\n",
    "    if i%(epoch/10) == 0:\n",
    "        loss_list.append([i,loss])\n",
    "        print(f\"Loss after {i} epochs: \",loss)\n",
    "    \n",
    "    # Backward Propagation\n",
    "    w1 = w1-learning_rate*np.dot(error,batch[:,0])\n",
    "    w2 = w2-learning_rate*np.dot(error,batch[:,1])\n",
    "    b = b-learning_rate*sum(error)\n",
    "\n",
    "# Printing Final results\n",
    "print(\"\\nResult\\n\",\"-\"*50)\n",
    "print(\"Final Weights and Bias: \",w1,w2,b)\n",
    "print(\"Final Loss: \", np.sum(np.array(error) ** 2) / len(data))"
   ]
  },
  {
   "cell_type": "code",
   "execution_count": null,
   "metadata": {},
   "outputs": [],
   "source": []
  }
 ],
 "metadata": {
  "kernelspec": {
   "display_name": "Python 3",
   "language": "python",
   "name": "python3"
  },
  "language_info": {
   "codemirror_mode": {
    "name": "ipython",
    "version": 3
   },
   "file_extension": ".py",
   "mimetype": "text/x-python",
   "name": "python",
   "nbconvert_exporter": "python",
   "pygments_lexer": "ipython3",
   "version": "3.7.1"
  },
  "toc": {
   "base_numbering": 1,
   "nav_menu": {},
   "number_sections": false,
   "sideBar": true,
   "skip_h1_title": false,
   "title_cell": "Table of Contents",
   "title_sidebar": "Contents",
   "toc_cell": false,
   "toc_position": {},
   "toc_section_display": true,
   "toc_window_display": false
  },
  "varInspector": {
   "cols": {
    "lenName": 16,
    "lenType": 16,
    "lenVar": 40
   },
   "kernels_config": {
    "python": {
     "delete_cmd_postfix": "",
     "delete_cmd_prefix": "del ",
     "library": "var_list.py",
     "varRefreshCmd": "print(var_dic_list())"
    },
    "r": {
     "delete_cmd_postfix": ") ",
     "delete_cmd_prefix": "rm(",
     "library": "var_list.r",
     "varRefreshCmd": "cat(var_dic_list()) "
    }
   },
   "types_to_exclude": [
    "module",
    "function",
    "builtin_function_or_method",
    "instance",
    "_Feature"
   ],
   "window_display": false
  }
 },
 "nbformat": 4,
 "nbformat_minor": 2
}
