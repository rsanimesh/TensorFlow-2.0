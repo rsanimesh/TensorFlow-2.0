{
 "cells": [
  {
   "cell_type": "markdown",
   "metadata": {},
   "source": [
    "<div style=\"text-align:center\">\n",
    "<h1>Neural Network in Python from Scratch</h1>\n",
    "<hr>\n",
    "<h3>Using Tensorflow</h3>\n",
    "</div>\n",
    "<hr>"
   ]
  },
  {
   "cell_type": "markdown",
   "metadata": {},
   "source": [
    "__Regression Problem__:\n",
    "\n",
    "We have a product whose price is calculated based on its lenght. We need to train our Neural Network to predict the price of the product when given its lenght."
   ]
  },
  {
   "cell_type": "code",
   "execution_count": 11,
   "metadata": {
    "ExecuteTime": {
     "end_time": "2019-12-04T07:49:45.599704Z",
     "start_time": "2019-12-04T07:49:45.591755Z"
    }
   },
   "outputs": [
    {
     "data": {
      "text/plain": [
       "True"
      ]
     },
     "execution_count": 11,
     "metadata": {},
     "output_type": "execute_result"
    }
   ],
   "source": [
    "### Setup\n",
    "\n",
    "from __future__ import absolute_import, division, print_function, unicode_literals\n",
    "import os\n",
    "import tensorflow as tf\n",
    "import cProfile\n",
    "import numpy as np\n",
    "from matplotlib import pyplot as plt\n",
    "\n",
    "%matplotlib inline\n",
    "tf.executing_eagerly()"
   ]
  },
  {
   "cell_type": "markdown",
   "metadata": {},
   "source": [
    "### Creating Dataset\n",
    "\n",
    "Let's assume we know that price of the product can be calculated using equation\n",
    "\n",
    "__price = 3 * length of product + 2__\n",
    "\n",
    "Below we will be creating dataset for our neural  network.\n",
    "\n",
    "We will randomly generate lenght of product and then calculate the price using the above equation.\n",
    "Also we will add some noise to it.\n",
    "\n",
    "Then we will randomly initilize weights and bais for our netwwork.\n",
    "\n",
    "__Work for our network is learn the correct weight (3) and bais (2) while training itself on created dataset.__"
   ]
  },
  {
   "cell_type": "code",
   "execution_count": 12,
   "metadata": {
    "ExecuteTime": {
     "end_time": "2019-12-04T08:00:23.901743Z",
     "start_time": "2019-12-04T08:00:23.895716Z"
    },
    "cell_style": "split"
   },
   "outputs": [],
   "source": [
    "NUM_DATA_POINTS = 2000\n",
    "training_inputs = tf.random.normal([NUM_DATA_POINTS])\n",
    "noise = tf.random.normal([NUM_DATA_POINTS])\n",
    "training_outputs = 3 * training_inputs + 2 + noise"
   ]
  },
  {
   "cell_type": "code",
   "execution_count": 13,
   "metadata": {
    "ExecuteTime": {
     "end_time": "2019-12-04T08:00:59.440632Z",
     "start_time": "2019-12-04T08:00:59.311977Z"
    },
    "cell_style": "split"
   },
   "outputs": [
    {
     "data": {
      "text/plain": [
       "<matplotlib.collections.PathCollection at 0x253132bd5f8>"
      ]
     },
     "execution_count": 13,
     "metadata": {},
     "output_type": "execute_result"
    },
    {
     "data": {
      "image/png": "[encoded data removed]",
      "text/plain": [
       "<Figure size 432x288 with 1 Axes>"
      ]
     },
     "metadata": {
      "needs_background": "light"
     },
     "output_type": "display_data"
    }
   ],
   "source": [
    "# Ploting our Dataset\n",
    "plt.scatter(training_inputs,training_outputs)"
   ]
  },
  {
   "cell_type": "code",
   "execution_count": 37,
   "metadata": {
    "ExecuteTime": {
     "end_time": "2019-12-04T11:00:27.950224Z",
     "start_time": "2019-12-04T11:00:27.940066Z"
    }
   },
   "outputs": [],
   "source": [
    "# Creating a Neural  Network\n",
    "\n",
    "class Linear(tf.keras.Model):\n",
    "  def __init__(self):\n",
    "    super(Linear, self).__init__()\n",
    "    \n",
    "    self.W = tf.Variable(5., name='weight')\n",
    "    self.B = tf.Variable(10., name='bias')\n",
    "    \n",
    "  def call(self, inputs):\n",
    "    return inputs * self.W + self.B\n",
    "\n",
    "# The loss function to be optimized\n",
    "def loss(model, inputs, targets):\n",
    "    error = model(inputs) - targets\n",
    "    return tf.reduce_mean(tf.square(error))\n",
    "\n",
    "def grad(model, inputs, targets):\n",
    "  with tf.GradientTape() as tape:\n",
    "    loss_value = loss(model, inputs, targets)\n",
    "  return tape.gradient(loss_value, [model.W, model.B])"
   ]
  },
  {
   "cell_type": "code",
   "execution_count": 38,
   "metadata": {
    "ExecuteTime": {
     "end_time": "2019-12-04T11:00:28.501575Z",
     "start_time": "2019-12-04T11:00:28.493436Z"
    }
   },
   "outputs": [
    {
     "data": {
      "text/plain": [
       "<tf.Tensor: id=169, shape=(2000,), dtype=float32, numpy=\n",
       "array([ 1.2120494 ,  1.4917872 ,  0.15794145, ..., -0.4378564 ,\n",
       "       -1.2235225 , -0.94536406], dtype=float32)>"
      ]
     },
     "execution_count": 38,
     "metadata": {},
     "output_type": "execute_result"
    }
   ],
   "source": [
    "training_inputs"
   ]
  },
  {
   "cell_type": "code",
   "execution_count": 39,
   "metadata": {
    "ExecuteTime": {
     "end_time": "2019-12-04T11:00:29.913950Z",
     "start_time": "2019-12-04T11:00:28.810876Z"
    }
   },
   "outputs": [
    {
     "name": "stdout",
     "output_type": "stream",
     "text": [
      "Initial loss: 69.479\n",
      "Loss at step 000: 66.762\n",
      "Loss at step 020: 30.267\n",
      "Loss at step 040: 14.031\n",
      "Loss at step 060: 6.808\n",
      "Loss at step 080: 3.595\n",
      "Loss at step 100: 2.166\n",
      "Loss at step 120: 1.530\n",
      "Loss at step 140: 1.247\n",
      "Loss at step 160: 1.121\n",
      "Loss at step 180: 1.065\n",
      "Loss at step 200: 1.040\n",
      "Loss at step 220: 1.029\n",
      "Loss at step 240: 1.024\n",
      "Loss at step 260: 1.022\n",
      "Loss at step 280: 1.021\n"
     ]
    }
   ],
   "source": [
    "model = Linear()\n",
    "optimizer = tf.keras.optimizers.SGD(learning_rate=0.01)\n",
    "\n",
    "print(\"Initial loss: {:.3f}\".format(loss(model, training_inputs, training_outputs)))\n",
    "\n",
    "steps = 300\n",
    "for i in range(steps):\n",
    "  grads = grad(model, training_inputs, training_outputs)\n",
    "  optimizer.apply_gradients(zip(grads, [model.W, model.B]))\n",
    "  if i % 20 == 0:\n",
    "    print(\"Loss at step {:03d}: {:.3f}\".format(i, loss(model, training_inputs, training_outputs)))"
   ]
  },
  {
   "cell_type": "code",
   "execution_count": 35,
   "metadata": {
    "ExecuteTime": {
     "end_time": "2019-12-04T11:00:07.254443Z",
     "start_time": "2019-12-04T11:00:07.246771Z"
    }
   },
   "outputs": [
    {
     "name": "stdout",
     "output_type": "stream",
     "text": [
      "(2000,) (2000,)\n",
      "Final loss: 1.021\n"
     ]
    }
   ],
   "source": [
    "print(\"Final loss: {:.3f}\".format(loss(model, training_inputs, training_outputs)))"
   ]
  },
  {
   "cell_type": "code",
   "execution_count": 36,
   "metadata": {
    "ExecuteTime": {
     "end_time": "2019-12-04T11:00:09.039583Z",
     "start_time": "2019-12-04T11:00:09.032058Z"
    }
   },
   "outputs": [
    {
     "name": "stdout",
     "output_type": "stream",
     "text": [
      "W = 3.00897216796875, B = 1.9984804391860962\n"
     ]
    }
   ],
   "source": [
    "print(\"W = {}, B = {}\".format(model.W.numpy(), model.B.numpy()))"
   ]
  },
  {
   "cell_type": "code",
   "execution_count": null,
   "metadata": {},
   "outputs": [],
   "source": []
  }
 ],
 "metadata": {
  "kernelspec": {
   "display_name": "tf2.0-gpu-wenv",
   "language": "python",
   "name": "tf2.0-gpu-wenv"
  },
  "language_info": {
   "codemirror_mode": {
    "name": "ipython",
    "version": 3
   },
   "file_extension": ".py",
   "mimetype": "text/x-python",
   "name": "python",
   "nbconvert_exporter": "python",
   "pygments_lexer": "ipython3",
   "version": "3.7.1"
  },
  "toc": {
   "base_numbering": 1,
   "nav_menu": {},
   "number_sections": false,
   "sideBar": true,
   "skip_h1_title": false,
   "title_cell": "Table of Contents",
   "title_sidebar": "Contents",
   "toc_cell": false,
   "toc_position": {},
   "toc_section_display": true,
   "toc_window_display": false
  },
  "varInspector": {
   "cols": {
    "lenName": 16,
    "lenType": 16,
    "lenVar": 40
   },
   "kernels_config": {
    "python": {
     "delete_cmd_postfix": "",
     "delete_cmd_prefix": "del ",
     "library": "var_list.py",
     "varRefreshCmd": "print(var_dic_list())"
    },
    "r": {
     "delete_cmd_postfix": ") ",
     "delete_cmd_prefix": "rm(",
     "library": "var_list.r",
     "varRefreshCmd": "cat(var_dic_list()) "
    }
   },
   "types_to_exclude": [
    "module",
    "function",
    "builtin_function_or_method",
    "instance",
    "_Feature"
   ],
   "window_display": false
  }
 },
 "nbformat": 4,
 "nbformat_minor": 2
}
